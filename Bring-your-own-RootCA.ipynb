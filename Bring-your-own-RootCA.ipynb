{
 "cells": [
  {
   "cell_type": "markdown",
   "id": "bee6bd58-c3b8-488b-836c-ea1a468919b0",
   "metadata": {},
   "source": [
    "# PKI Secrets Engine - Bring Your Own Root CA\n",
    "\n"
   ]
  },
  {
   "cell_type": "markdown",
   "id": "7dbb3205",
   "metadata": {},
   "source": [
    "In this scenario, we use Vault as a trusted Intermediate in the certificate chain for signing certificates for existing PKI infrastructure.\n",
    "<img align=center src=Images/pki-img1.png width=600/>\n",
    "We use Vault as Intermediate CA and keep the Organisation's Root CA offline in an airgapped env.A shorter-lived intermediate CA certificate is generated using Root CA and the intermediate CA is put this into the Vault. \n",
    "\n",
    "<img align=center src=Images/pki-img2.jpg/>\n",
    "\n",
    "Clients can request Vault to issue an identity certificate, which is signed by the Intermediate CA we configured earlier.\n",
    "\n",
    "Complete Steps span across two phases, Configuration - generally one time Intial set up and Usage, Day 1 and Day 2 activities.\n",
    "\n",
    "<b>CONFIGURATION:</b>\n",
    "\n",
    "1. Setting up Vault\n",
    "2. Configuring the PKI Secrets Engine\n",
    "    1. Enable the Engine\n",
    "    2. Configure the Engine as Intermediate \n",
    "    3. Import Signed Certificate back in Vault\n",
    "3. Creating a role\n",
    "\n",
    "<b>USAGE:</b>\n",
    "\n",
    "4. Request a certificate "
   ]
  },
  {
   "cell_type": "markdown",
   "id": "0990540e-25f7-4c56-9ad5-d2f276b25bbd",
   "metadata": {},
   "source": [
    "---\n",
    "# Configuration\n",
    "\n",
    "## Step#1: Setting Up Vault Client"
   ]
  },
  {
   "cell_type": "code",
   "execution_count": 2,
   "id": "55eebd5e-2d57-4514-bf59-0abf200a3d6a",
   "metadata": {},
   "outputs": [
    {
     "name": "stdout",
     "output_type": "stream",
     "text": [
      "\u001b[93mWARNING! The VAULT_TOKEN environment variable is set! This takes precedence\n",
      "over the value set by this command. To use the value set by this command,\n",
      "unset the VAULT_TOKEN environment variable or set it to the token displayed\n",
      "below.\n",
      "\u001b[0m\n",
      "\u001b[0mSuccess! You are now authenticated. The token information displayed below\n",
      "is already stored in the token helper. You do NOT need to run \"vault login\"\n",
      "again. Future Vault requests will automatically use this token.\n",
      "\u001b[0m\n",
      "\u001b[0mKey                  Value\n",
      "---                  -----\n",
      "token                root\n",
      "token_accessor       87H5mcaZNC4PPYDct163lx0c\n",
      "token_duration       ∞\n",
      "token_renewable      false\n",
      "token_policies       [\"root\"]\n",
      "identity_policies    []\n",
      "policies             [\"root\"]\u001b[0m\n"
     ]
    }
   ],
   "source": [
    "export VAULT_ADDR=http://localhost:8200\n",
    "export VAULT_TOKEN=root\n",
    "vault login root"
   ]
  },
  {
   "cell_type": "code",
   "execution_count": 12,
   "id": "5cad412e-7278-4da6-8c12-8eb59a402c16",
   "metadata": {},
   "outputs": [
    {
     "name": "stdout",
     "output_type": "stream",
     "text": [
      "\u001b[0mKey             Value\n",
      "---             -----\n",
      "Seal Type       shamir\n",
      "Initialized     true\n",
      "Sealed          false\n",
      "Total Shares    1\n",
      "Threshold       1\n",
      "Version         1.9.2\n",
      "Storage Type    inmem\n",
      "Cluster Name    vault-cluster-3f1a29ba\n",
      "Cluster ID      35c5bf70-a162-52ba-07e6-40a5aa36e777\n",
      "HA Enabled      false\u001b[0m\n"
     ]
    }
   ],
   "source": [
    "vault status"
   ]
  },
  {
   "cell_type": "markdown",
   "id": "43e45362-c30b-4b85-8a83-240d8c59def7",
   "metadata": {},
   "source": [
    "## Step#2: Configuring the PKI Secrets Engine\n",
    "\n",
    "### 2a. Enable the PKI Secrets Engine"
   ]
  },
  {
   "cell_type": "code",
   "execution_count": 3,
   "id": "89dde609-8d90-4cda-bb76-2615e634ca25",
   "metadata": {},
   "outputs": [
    {
     "name": "stdout",
     "output_type": "stream",
     "text": [
      "\u001b[0mSuccess! Enabled the pki secrets engine at: byoca-int1/\u001b[0m\n"
     ]
    }
   ],
   "source": [
    "#Enable PKI Secrets Engine at a specified path\n",
    "vault secrets enable -path=\"byoca-int1\" pki"
   ]
  },
  {
   "cell_type": "code",
   "execution_count": 4,
   "id": "69f84e60-a188-4498-a89a-04ebfe61dbb1",
   "metadata": {},
   "outputs": [
    {
     "name": "stdout",
     "output_type": "stream",
     "text": [
      "\u001b[0mSuccess! Tuned the secrets engine at: byoca-int1/\u001b[0m\n"
     ]
    }
   ],
   "source": [
    "#You may increase the TTL, if required by tuning the secrets engine. \n",
    "vault secrets tune -max-lease-ttl=8760h byoca-int1"
   ]
  },
  {
   "cell_type": "code",
   "execution_count": 5,
   "id": "676dd514-0931-4511-a46b-1f630b012152",
   "metadata": {
    "scrolled": true
   },
   "outputs": [
    {
     "name": "stdout",
     "output_type": "stream",
     "text": [
      "\u001b[0mPath                          Type         Accessor              Description\n",
      "----                          ----         --------              -----------\n",
      "byoca-int1/                   pki          pki_c2866551          n/a\n",
      "cubbyhole/                    cubbyhole    cubbyhole_a5e84643    per-token private secret storage\n",
      "identity/                     identity     identity_3f771378     identity store\n",
      "openldap/                     openldap     openldap_daf63dde     n/a\n",
      "pki/                          pki          pki_7bc04361          n/a\n",
      "pki_int/                      pki          pki_1f2d28a7          n/a\n",
      "rbbank-key/                   transit      transit_7f6fd3cf      n/a\n",
      "secret/                       kv           kv_8031e0df           key/value secret storage\n",
      "ssh-client-signe-non-prod/    ssh          ssh_a4138960          n/a\n",
      "ssh-client-signer/            ssh          ssh_bbe10c96          n/a\n",
      "ssh-user-ca/                  ssh          ssh_ae95f83c          n/a\n",
      "sys/                          system       system_5ec4bca7       system endpoints used for control, policy and debugging\u001b[0m\n"
     ]
    }
   ],
   "source": [
    "vault secrets list"
   ]
  },
  {
   "cell_type": "markdown",
   "id": "2f1ec1b2",
   "metadata": {},
   "source": [
    "### 2b: Configure the Secret Engine to be an Intermediate CA"
   ]
  },
  {
   "cell_type": "code",
   "execution_count": 6,
   "id": "713be336",
   "metadata": {},
   "outputs": [
    {
     "name": "stdout",
     "output_type": "stream",
     "text": [
      "-----BEGIN CERTIFICATE REQUEST-----\n",
      "MIICazCCAVMCAQAwJjEkMCIGA1UEAxMbbmlkaGltaXNocmEuY2YgSW50ZXJtZWRp\n",
      "YXRlMIIBIjANBgkqhkiG9w0BAQEFAAOCAQ8AMIIBCgKCAQEAuSRJMcQyxECs5dzV\n",
      "r7DZGXcOO/5IX77WFZiEynaKs9tXMKy0g3JQmzh4ZkEpalgt3wZCIxc5Yu7mKc3A\n",
      "99qUpTIjtDI8VIkhG90wKlz/zZqkTs820t33MX2HEAmcfNP6hlcxDilkXCSZ+aLr\n",
      "/Z4tuI5DFMkFJ96zYLVJp4TOANB2qPSNLduX5yLczrLMpZmSaZnDDakhcIBU7Kpx\n",
      "iRpVkbWXQKY4p7R0JfU44IVdKQMZzIh9Fz8zf8VWiL5h8TLGaZrY2uk52j0rdPyL\n",
      "deRMy4JCRF5wIwYhboIWCjy/kF5PMtl2fNMbdx/kra5QbBN9KyZLuHgb+BqrQI6+\n",
      "hFzdcwIDAQABoAAwDQYJKoZIhvcNAQELBQADggEBAKvNJgqVZqqe1sxkL8s/BpqT\n",
      "bD2UR/dpkawTDL0QSoIF0rDcQlPfZLp1zvX3zNRUIAtoNuXQdVWL/cIH2eARK0NX\n",
      "gEMGwDOptDZRXm7qaV/TzM1OhyKiK2p6jn44PKcLDWQUbldFWsZhDkkUlDZG+V8u\n",
      "9qP8VgpBx92C1bHjWtE5VRN2sWcNVA79qZhbc9TWEhb36/hQx1/x7PHzvukTLvU6\n",
      "t7j8gCrxXfW2ywD5y44IVoxOCoxXsr1wOC6ZDqIAzaI+Rf3J50v3ArCguy8yFNdU\n",
      "zCbfVe0gl6F4W1tONGT9I+TwqHxezVVMjAaUr+sFsbrjlFMXqGGRQYNtPAyCGYg=\n",
      "-----END CERTIFICATE REQUEST-----\n"
     ]
    }
   ],
   "source": [
    "vault write -format=json  byoca-int1/intermediate/generate/internal common_name=\"nidhimishra.cf Intermediate\" | jq .data.csr -r > pki101.csr\n",
    "cat pki101.csr"
   ]
  },
  {
   "cell_type": "markdown",
   "id": "791d777b",
   "metadata": {},
   "source": [
    "#### This generates a CSR which must be signed by organisation's root certificate."
   ]
  },
  {
   "cell_type": "code",
   "execution_count": 7,
   "id": "f07a3f92",
   "metadata": {},
   "outputs": [
    {
     "name": "stdout",
     "output_type": "stream",
     "text": [
      "verify OK\n",
      "Certificate Request:\n",
      "    Data:\n",
      "        Version: 1 (0x0)\n",
      "        Subject: CN = nidhimishra.cf Intermediate\n",
      "        Subject Public Key Info:\n",
      "            Public Key Algorithm: rsaEncryption\n",
      "                RSA Public-Key: (2048 bit)\n",
      "                Modulus:\n",
      "                    00:b9:24:49:31:c4:32:c4:40:ac:e5:dc:d5:af:b0:\n",
      "                    d9:19:77:0e:3b:fe:48:5f:be:d6:15:98:84:ca:76:\n",
      "                    8a:b3:db:57:30:ac:b4:83:72:50:9b:38:78:66:41:\n",
      "                    29:6a:58:2d:df:06:42:23:17:39:62:ee:e6:29:cd:\n",
      "                    c0:f7:da:94:a5:32:23:b4:32:3c:54:89:21:1b:dd:\n",
      "                    30:2a:5c:ff:cd:9a:a4:4e:cf:36:d2:dd:f7:31:7d:\n",
      "                    87:10:09:9c:7c:d3:fa:86:57:31:0e:29:64:5c:24:\n",
      "                    99:f9:a2:eb:fd:9e:2d:b8:8e:43:14:c9:05:27:de:\n",
      "                    b3:60:b5:49:a7:84:ce:00:d0:76:a8:f4:8d:2d:db:\n",
      "                    97:e7:22:dc:ce:b2:cc:a5:99:92:69:99:c3:0d:a9:\n",
      "                    21:70:80:54:ec:aa:71:89:1a:55:91:b5:97:40:a6:\n",
      "                    38:a7:b4:74:25:f5:38:e0:85:5d:29:03:19:cc:88:\n",
      "                    7d:17:3f:33:7f:c5:56:88:be:61:f1:32:c6:69:9a:\n",
      "                    d8:da:e9:39:da:3d:2b:74:fc:8b:75:e4:4c:cb:82:\n",
      "                    42:44:5e:70:23:06:21:6e:82:16:0a:3c:bf:90:5e:\n",
      "                    4f:32:d9:76:7c:d3:1b:77:1f:e4:ad:ae:50:6c:13:\n",
      "                    7d:2b:26:4b:b8:78:1b:f8:1a:ab:40:8e:be:84:5c:\n",
      "                    dd:73\n",
      "                Exponent: 65537 (0x10001)\n",
      "        Attributes:\n",
      "            a0:00\n",
      "    Signature Algorithm: sha256WithRSAEncryption\n",
      "         ab:cd:26:0a:95:66:aa:9e:d6:cc:64:2f:cb:3f:06:9a:93:6c:\n",
      "         3d:94:47:f7:69:91:ac:13:0c:bd:10:4a:82:05:d2:b0:dc:42:\n",
      "         53:df:64:ba:75:ce:f5:f7:cc:d4:54:20:0b:68:36:e5:d0:75:\n",
      "         55:8b:fd:c2:07:d9:e0:11:2b:43:57:80:43:06:c0:33:a9:b4:\n",
      "         36:51:5e:6e:ea:69:5f:d3:cc:cd:4e:87:22:a2:2b:6a:7a:8e:\n",
      "         7e:38:3c:a7:0b:0d:64:14:6e:57:45:5a:c6:61:0e:49:14:94:\n",
      "         36:46:f9:5f:2e:f6:a3:fc:56:0a:41:c7:dd:82:d5:b1:e3:5a:\n",
      "         d1:39:55:13:76:b1:67:0d:54:0e:fd:a9:98:5b:73:d4:d6:12:\n",
      "         16:f7:eb:f8:50:c7:5f:f1:ec:f1:f3:be:e9:13:2e:f5:3a:b7:\n",
      "         b8:fc:80:2a:f1:5d:f5:b6:cb:00:f9:cb:8e:08:56:8c:4e:0a:\n",
      "         8c:57:b2:bd:70:38:2e:99:0e:a2:00:cd:a2:3e:45:fd:c9:e7:\n",
      "         4b:f7:02:b0:a0:bb:2f:32:14:d7:54:cc:26:df:55:ed:20:97:\n",
      "         a1:78:5b:5b:4e:34:64:fd:23:e4:f0:a8:7c:5e:cd:55:4c:8c:\n",
      "         06:94:af:eb:05:b1:ba:e3:94:53:17:a8:61:91:41:83:6d:3c:\n",
      "         0c:82:19:88\n"
     ]
    }
   ],
   "source": [
    "openssl req -text -noout -verify -in pki101.csr"
   ]
  },
  {
   "cell_type": "markdown",
   "id": "7d156b22",
   "metadata": {},
   "source": [
    "### 2c: Import the signed certificate back in vault"
   ]
  },
  {
   "cell_type": "code",
   "execution_count": 18,
   "id": "bc93bbd4",
   "metadata": {},
   "outputs": [
    {
     "name": "stdout",
     "output_type": "stream",
     "text": [
      "\u001b[91mFailed to parse K=V data: invalid key/value pair \"certificate=@pki101.pem\": error reading file: open pki101.pem: no such file or directory\u001b[0m\n"
     ]
    },
    {
     "ename": "",
     "evalue": "1",
     "output_type": "error",
     "traceback": []
    }
   ],
   "source": [
    "vault write  byoca-int1/intermediate/set-signed certificate=@pki101.pem"
   ]
  },
  {
   "cell_type": "markdown",
   "id": "736dd4a9-b20f-4fad-abb7-606ca1c09529",
   "metadata": {},
   "source": [
    "## Step#3: Create a role\n",
    "\n",
    "##### A role is a logical name that maps to a policy used to generate those credentials. It allows configuration parameters to control certificate common names, alternate names, the key uses that they are valid for, and more."
   ]
  },
  {
   "cell_type": "code",
   "execution_count": 9,
   "id": "1aa93a09-16f0-4189-8551-26b4c1c832f3",
   "metadata": {},
   "outputs": [
    {
     "name": "stdout",
     "output_type": "stream",
     "text": [
      "\u001b[0mSuccess! Data written to: byoca-int1/roles/byoca-nidhimishra-dot-cf\u001b[0m\n"
     ]
    }
   ],
   "source": [
    "vault write byoca-int1/roles/byoca-nidhimishra-dot-cf \\\n",
    "        allowed_domains=\"nidhimishra.cf\" \\\n",
    "        allow_subdomains=true \\\n",
    "        max_ttl=\"720h\""
   ]
  },
  {
   "cell_type": "markdown",
   "id": "8d8c2123-3b27-453f-a99f-e0e50f5cc253",
   "metadata": {},
   "source": [
    "-----\n",
    "\n",
    "# Usage\n",
    "\n",
    "## Step#4: Request a leaf certificate using Vault"
   ]
  },
  {
   "cell_type": "code",
   "execution_count": 19,
   "id": "2d0a3bb3-688f-469e-b150-cb4b4a77ae8d",
   "metadata": {},
   "outputs": [
    {
     "name": "stdout",
     "output_type": "stream",
     "text": [
      "\u001b[91mError writing data to byoca-int1/issue/byoca-nidhimishra-dot-cf: Error making API request.\n",
      "\n",
      "URL: PUT http://localhost:8200/v1/byoca-int1/issue/byoca-nidhimishra-dot-cf\n",
      "Code: 400. Errors:\n",
      "\n",
      "* unknown role: byoca-nidhimishra-dot-cf\u001b[0m\n"
     ]
    },
    {
     "ename": "",
     "evalue": "2",
     "output_type": "error",
     "traceback": []
    }
   ],
   "source": [
    "vault write byoca-int1/issue/byoca-nidhimishra-dot-cf common_name=\"test90.nidhimishra.cf\" ttl=\"24h\" "
   ]
  },
  {
   "cell_type": "code",
   "execution_count": 95,
   "id": "3ec22ae6",
   "metadata": {},
   "outputs": [
    {
     "name": "stdout",
     "output_type": "stream",
     "text": [
      "Error writing data to byoca-int1/issue/byoca-nidhimishra-dot-cf: Error making API request.\n",
      "\n",
      "URL: PUT http://localhost:8200/v1/byoca-int1/issue/byoca-nidhimishra-dot-cf\n",
      "Code: 500. Errors:\n",
      "\n",
      "* 1 error occurred:\n",
      "\t* error fetching CA certificate: stored CA information not able to be parsed\n",
      "\n",
      "\n",
      "unable to load certificate\n",
      "8595631616:error:0909006C:PEM routines:get_name:no start line:crypto/pem/pem_lib.c:745:Expecting: TRUSTED CERTIFICATE\n"
     ]
    },
    {
     "ename": "",
     "evalue": "1",
     "output_type": "error",
     "traceback": []
    }
   ],
   "source": [
    "vault write byoca-int1/issue/byoca-nidhimishra-dot-cf common_name=\"test90.nidhimishra.cf\" ttl=\"24h\" -format=json| jq .data.certificate -r > leaf-cert.crt\n",
    "openssl x509 -in leaf-cert.crt -text -noout "
   ]
  },
  {
   "cell_type": "markdown",
   "id": "8cf87bf1-312c-4ae2-bc78-4747194719ac",
   "metadata": {},
   "source": [
    "---\n",
    "## Revoke certificates\n",
    "\n",
    "##### If a certificate must be revoked, you can easily perform the revocation action which will cause the CRL to be regenerated. When the CRL is regenerated, any expired certificates are removed from the CRL."
   ]
  },
  {
   "cell_type": "code",
   "execution_count": 96,
   "id": "9ef64fbd-b892-4b2b-a5fa-2db961f55afd",
   "metadata": {},
   "outputs": [
    {
     "name": "stdout",
     "output_type": "stream",
     "text": [
      "\u001b[91mError writing data to byoca-int1/revoke: Error making API request.\n",
      "\n",
      "URL: PUT http://localhost:8200/v1/byoca-int1/revoke\n",
      "Code: 500. Errors:\n",
      "\n",
      "* 1 error occurred:\n",
      "\t* error fetching CA certificate: stored CA information not able to be parsed\n",
      "\n",
      "\u001b[0m\n"
     ]
    },
    {
     "ename": "",
     "evalue": "2",
     "output_type": "error",
     "traceback": []
    }
   ],
   "source": [
    "vault write byoca-int1/revoke serial_number='7a:a0:59:e0:0b:17:f1:2f:a1:fa:ec:63:c6:00:22:77:0d:db:52:5e'"
   ]
  },
  {
   "cell_type": "markdown",
   "id": "e7122d9a-1f69-4bb4-8619-71f1f92c6db6",
   "metadata": {},
   "source": [
    "---\n",
    "## Remove Expired Certificates\n",
    "\n",
    "##### Keep the storage backend and CRL by periodically removing certificates that have expired and are past a certain buffer period beyond their expiration time."
   ]
  },
  {
   "cell_type": "code",
   "execution_count": 97,
   "id": "25f78aba-96e3-4bd8-9a21-e10f777c87c1",
   "metadata": {},
   "outputs": [
    {
     "name": "stdout",
     "output_type": "stream",
     "text": [
      "\u001b[93mWARNING! The following warnings were returned from Vault:\n",
      "\u001b[0m\n",
      "\u001b[93m  * Tidy operation successfully started. Any information from the operation\n",
      "  will be printed to Vault's server logs.\u001b[0m\n",
      "\u001b[93m\u001b[0m\n"
     ]
    }
   ],
   "source": [
    "vault write byoca-int1/tidy tidy_cert_store=true tidy_revoked_certs=true"
   ]
  },
  {
   "cell_type": "markdown",
   "id": "43424c4f-da54-4a6f-aac3-a4af5b17b786",
   "metadata": {},
   "source": [
    "---"
   ]
  }
 ],
 "metadata": {
  "kernelspec": {
   "display_name": "Bash",
   "language": "bash",
   "name": "bash"
  },
  "language_info": {
   "codemirror_mode": "shell",
   "file_extension": ".sh",
   "mimetype": "text/x-sh",
   "name": "bash"
  }
 },
 "nbformat": 4,
 "nbformat_minor": 5
}
